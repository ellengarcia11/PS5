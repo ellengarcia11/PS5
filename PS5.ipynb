{
 "cells": [
  {
   "cell_type": "markdown",
   "id": "724ab06d-98ea-447b-8480-01dae54267a4",
   "metadata": {},
   "source": [
    "# **<div align=\"center\"> Problem Set 5 </div>**\n",
    "**Question 1:** What is the country with the latest year (most recent) of independence?\n",
    "* Provide your answer (2 points) and the code used to get that answer (3 points).\n",
    "* The code can either be SQL or SQLAlchemy code.\n"
   ]
  },
  {
   "cell_type": "code",
   "execution_count": 1,
   "id": "0988a602-2664-4de2-a7a0-3895b6fdc8ea",
   "metadata": {},
   "outputs": [],
   "source": [
    "#!/usr/bin/env python\n",
    "from sqlalchemy import create_engine\n",
    "from sqlalchemy import MetaData\n",
    "from sqlalchemy import Table, Column\n",
    "from sqlalchemy import Integer, String\n",
    "from sqlalchemy import sql, select, join, desc\n",
    "\n",
    "# Create a Engine object which is our handle into the database.\n",
    "engine = create_engine('sqlite:////home/ellengarcia11/CompToolsEllen/world.sqlite')\n",
    "\n",
    "# Connect to the database\n",
    "conn = engine.connect()\n",
    "\n",
    "# Read the metadata from the existing database.\n",
    "#  Since the database already exists and has tables defined, we can create Python objects based on these automatically.\n",
    "DBInfo=MetaData(engine)"
   ]
  },
  {
   "cell_type": "code",
   "execution_count": 14,
   "id": "f6010e54-b75d-4286-84b7-85575fd80d22",
   "metadata": {},
   "outputs": [
    {
     "name": "stdout",
     "output_type": "stream",
     "text": [
      "('PLW', 'Palau', 1994)\n",
      "The country with the most recent independence year in this data is ('PLW', 'Palau', 1994)\n"
     ]
    }
   ],
   "source": [
    "# Create a country object based on the metadata\n",
    "country=Table('country', DBInfo, autoload=True)\n",
    "\n",
    "\n",
    "#SELECT country code, name, and life expectancy FROM country \n",
    "#WHERE life expectancy  > 80 ORDER BY Life Expectancy DESC LIMIT 10;\n",
    "\n",
    "query=select([country.c.Code, country.c.Name, country.c.IndepYear])\\\n",
    "             .where(country.c.IndepYear > 1900)\\\n",
    "             .order_by(desc(country.c.IndepYear))\\\n",
    "             .limit(1)\n",
    "result = conn.execute(query)\n",
    "for row in result:\n",
    "    print(row)\n",
    "print(f\"The country with the most recent independence year in this data is {row}\")"
   ]
  },
  {
   "cell_type": "markdown",
   "id": "9fc04f8e-f688-4c43-8138-462ca253d771",
   "metadata": {},
   "source": [
    "**Question 2:**\n",
    "Refer to this page: https://www.statista.com/chart/11430/the-worlds-youngest-countries/ According to this, there are several countries that have become independent since the country in your answer to question 1.\n",
    "\n",
    "Pick one of those newer countries and using Wikipedia, or another source, add as much data to the country table as you can for that country.\n",
    "* Do not spend a lot of time trying to find all the data. One or two additional items beyond Name and IndepYear is fine.\n",
    "* Provide either a SQL INSERT statement or a SQLAlchemy insert statement to add the data for a new country into the database."
   ]
  },
  {
   "cell_type": "code",
   "execution_count": 21,
   "id": "d0892b66-34e8-49ae-9f72-c537b431214a",
   "metadata": {},
   "outputs": [
    {
     "name": "stdout",
     "output_type": "stream",
     "text": [
      "INSERT INTO country (\"Code\", \"Name\", \"Continent\", \"Region\", \"SurfaceArea\", \"IndepYear\", \"Population\", \"LifeExpectancy\", \"GNP\", \"GNPOld\", \"LocalName\", \"GovernmentForm\", \"HeadOfState\", \"Capital\", \"Code2\") VALUES (?, ?, ?, ?, ?, ?, ?, ?, ?, ?, ?, ?, ?, ?, ?)\n"
     ]
    }
   ],
   "source": [
    "print(country.insert())"
   ]
  },
  {
   "cell_type": "code",
   "execution_count": 22,
   "id": "8a5a85c5-5bde-4795-abac-b9a2fed3d170",
   "metadata": {},
   "outputs": [
    {
     "name": "stdout",
     "output_type": "stream",
     "text": [
      "INSERT INTO country (\"Code\", \"Name\", \"Continent\", \"IndepYear\", \"HeadOfState\") VALUES (?, ?, ?, ?, ?)\n"
     ]
    }
   ],
   "source": [
    "my_insert=country.insert().values(Code='SRB', Name='Serbia', IndepYear=2006,Continent='Europe',HeadOfState='Aleksandar Vučić')\n",
    "print(my_insert)"
   ]
  },
  {
   "cell_type": "code",
   "execution_count": 23,
   "id": "e428b991-a053-44aa-b326-8c988c5d1e58",
   "metadata": {},
   "outputs": [],
   "source": [
    "result = conn.execute(my_insert)"
   ]
  },
  {
   "cell_type": "code",
   "execution_count": 25,
   "id": "a986191f-4c63-42a8-a223-72db8328e7f7",
   "metadata": {},
   "outputs": [
    {
     "name": "stdout",
     "output_type": "stream",
     "text": [
      "('SRB', 'Serbia', 2006, 'Europe', 'Aleksandar Vučić')\n"
     ]
    }
   ],
   "source": [
    "query=select([country.c.Code, country.c.Name, country.c.IndepYear, country.c.Continent, country.c.HeadOfState]).where(country.c.Code.like('SRB%'))\n",
    "result = conn.execute(query)\n",
    "for row in result:\n",
    "    print(row)"
   ]
  },
  {
   "cell_type": "markdown",
   "id": "4d2d4a6f-c4ad-4653-814c-71c2286e5ab6",
   "metadata": {},
   "source": [
    "**Question 3:**\n",
    "\n",
    "For the country added in question 2, find 2 cities to add to the cities table of the database and provide the SQL or SQLAlchemy insert statement to add this data.\n",
    "\n",
    "* Again, don't sweat it if you can't find all of the data. If it's not in Wikipedia, don't spend time looking for it! A few columns worth of data is sufficient.\n",
    "\n",
    "**Serbia cities:**\n",
    "1. Name Kikinda, Country code SRB, District North Banat, Population 97522\n",
    "\n",
    "2. Name Niš, Country code SRB, District Nišava, Population 356298"
   ]
  },
  {
   "cell_type": "code",
   "execution_count": 27,
   "id": "f8fc1576-936d-4db3-ad18-f2250b2e4034",
   "metadata": {},
   "outputs": [
    {
     "name": "stdout",
     "output_type": "stream",
     "text": [
      "INSERT INTO city (\"ID\", \"Name\", \"CountryCode\", \"District\", \"Population\") VALUES (?, ?, ?, ?, ?)\n"
     ]
    }
   ],
   "source": [
    "city=Table('city', DBInfo, autoload=True)\n",
    "print(city.insert())"
   ]
  },
  {
   "cell_type": "code",
   "execution_count": 28,
   "id": "76a87e91-a06b-452a-b19d-4996f7e028a2",
   "metadata": {},
   "outputs": [
    {
     "name": "stdout",
     "output_type": "stream",
     "text": [
      "INSERT INTO city (\"Name\", \"CountryCode\", \"District\", \"Population\") VALUES (?, ?, ?, ?)\n"
     ]
    }
   ],
   "source": [
    "my_insert=city.insert().values(Name='Kikinda', CountryCode='SRB', District='North Banat', Population='59453')\n",
    "print(my_insert)"
   ]
  },
  {
   "cell_type": "code",
   "execution_count": 29,
   "id": "7380db7a-f9bb-42ee-a5e1-cfaeef77892a",
   "metadata": {},
   "outputs": [],
   "source": [
    "result = conn.execute(my_insert)"
   ]
  },
  {
   "cell_type": "code",
   "execution_count": 34,
   "id": "4d4fa985-15ad-43c1-b055-25e65d0fef85",
   "metadata": {},
   "outputs": [
    {
     "name": "stdout",
     "output_type": "stream",
     "text": [
      "('Kikinda', 'SRB', 'North Banat', 59453)\n"
     ]
    }
   ],
   "source": [
    "query=select([city.c.Name, city.c.CountryCode, city.c.District, city.c.Population]).where(city.c.CountryCode.like('SRB%'))\n",
    "result = conn.execute(query)\n",
    "for row in result:\n",
    "    print(row)"
   ]
  },
  {
   "cell_type": "code",
   "execution_count": 35,
   "id": "672a85c4-4aef-4475-a8e8-60a2e2b012dc",
   "metadata": {},
   "outputs": [
    {
     "name": "stdout",
     "output_type": "stream",
     "text": [
      "INSERT INTO city (\"ID\", \"Name\", \"CountryCode\", \"District\", \"Population\") VALUES (?, ?, ?, ?, ?)\n"
     ]
    }
   ],
   "source": [
    "print(city.insert())"
   ]
  },
  {
   "cell_type": "code",
   "execution_count": 36,
   "id": "407c1ef5-1011-457b-88d8-e9aa6740a542",
   "metadata": {},
   "outputs": [
    {
     "name": "stdout",
     "output_type": "stream",
     "text": [
      "INSERT INTO city (\"Name\", \"CountryCode\", \"District\", \"Population\") VALUES (?, ?, ?, ?)\n"
     ]
    }
   ],
   "source": [
    "my_insert=city.insert().values(Name='Niš', CountryCode='SRB', District='Nišava', Population='260237')\n",
    "print(my_insert)"
   ]
  },
  {
   "cell_type": "code",
   "execution_count": 37,
   "id": "89c8b0d0-d6c3-474b-b26e-6d3b456034c0",
   "metadata": {},
   "outputs": [],
   "source": [
    "result = conn.execute(my_insert)"
   ]
  },
  {
   "cell_type": "code",
   "execution_count": 38,
   "id": "cd36810c-ee2c-40ea-98f9-8190a5962b97",
   "metadata": {},
   "outputs": [
    {
     "name": "stdout",
     "output_type": "stream",
     "text": [
      "('Kikinda', 'SRB', 'North Banat', 59453)\n",
      "('Niš', 'SRB', 'Nišava', 260237)\n"
     ]
    }
   ],
   "source": [
    "#Two cities from Serbia added to the city table\n",
    "query=select([city.c.Name, city.c.CountryCode, city.c.District, city.c.Population]).where(city.c.CountryCode.like('SRB%'))\n",
    "result = conn.execute(query)\n",
    "for row in result:\n",
    "    print(row)"
   ]
  },
  {
   "cell_type": "markdown",
   "id": "80f1303d-a1bf-4d1d-98f6-fcca4d999b92",
   "metadata": {},
   "source": [
    "**Question 4:**\n",
    "Using the LifeExpectancy data in the country table on the y-axis, plot this data against some other value.\n",
    "\n",
    "* Suggestions for the x-axis: GNP, Population or IndepYear could be interesting, but up to you.\n",
    "* I'd suggest using SQLAlchemy, get the data and make either a dataframe or numpy arrays and then use matplotlib to plot.\n"
   ]
  },
  {
   "cell_type": "code",
   "execution_count": 1,
   "id": "b419998e-8072-4818-b75e-6642bda7e897",
   "metadata": {},
   "outputs": [],
   "source": [
    "#plotting Life expectancy V Surface area of a country\n",
    "#get the data and make a pandas data frame\n",
    "#plot the data \n",
    "\n",
    "\n",
    "#!/usr/bin/env python\n",
    "from sqlalchemy import create_engine\n",
    "from sqlalchemy import MetaData\n",
    "from sqlalchemy import Table, Column\n",
    "from sqlalchemy import Integer, String\n",
    "from sqlalchemy import sql, select, join, desc\n",
    "\n",
    "# Create a Engine object which is our handle into the database.\n",
    "engine = create_engine('sqlite:////home/ellengarcia11/CompToolsEllen/world.sqlite')\n",
    "\n",
    "# Connect to the database\n",
    "conn = engine.connect()\n",
    "\n",
    "# Read the metadata from the existing database.\n",
    "#  Since the database already exists and has tables defined, we can create Python objects based on these automatically.\n",
    "DBInfo=MetaData(engine)\n"
   ]
  },
  {
   "cell_type": "code",
   "execution_count": 16,
   "id": "094e86ad-62bf-40cf-989b-296b490d7327",
   "metadata": {},
   "outputs": [
    {
     "name": "stdout",
     "output_type": "stream",
     "text": [
      "(Decimal('78.4000000000'), Decimal('193.0000000000'))\n",
      "(Decimal('45.9000000000'), Decimal('652090.0000000000'))\n",
      "(Decimal('38.3000000000'), Decimal('1246700.0000000000'))\n",
      "(Decimal('76.1000000000'), Decimal('96.0000000000'))\n",
      "(Decimal('71.6000000000'), Decimal('28748.0000000000'))\n",
      "(Decimal('83.5000000000'), Decimal('468.0000000000'))\n",
      "(Decimal('74.7000000000'), Decimal('800.0000000000'))\n",
      "(Decimal('74.1000000000'), Decimal('83600.0000000000'))\n",
      "(Decimal('75.1000000000'), Decimal('2780400.0000000000'))\n",
      "(Decimal('66.4000000000'), Decimal('29800.0000000000'))\n",
      "(Decimal('75.1000000000'), Decimal('199.0000000000'))\n",
      "(None, Decimal('13120000.0000000000'))\n",
      "(None, Decimal('7780.0000000000'))\n",
      "(Decimal('70.5000000000'), Decimal('442.0000000000'))\n",
      "(Decimal('79.8000000000'), Decimal('7741220.0000000000'))\n",
      "(Decimal('77.7000000000'), Decimal('83859.0000000000'))\n",
      "(Decimal('62.9000000000'), Decimal('86600.0000000000'))\n",
      "(Decimal('46.2000000000'), Decimal('27834.0000000000'))\n",
      "(Decimal('77.8000000000'), Decimal('30518.0000000000'))\n",
      "(Decimal('50.2000000000'), Decimal('112622.0000000000'))\n",
      "(Decimal('46.7000000000'), Decimal('274000.0000000000'))\n",
      "(Decimal('60.2000000000'), Decimal('143998.0000000000'))\n",
      "(Decimal('70.9000000000'), Decimal('110994.0000000000'))\n",
      "(Decimal('73.0000000000'), Decimal('694.0000000000'))\n",
      "(Decimal('71.1000000000'), Decimal('13878.0000000000'))\n",
      "(Decimal('71.5000000000'), Decimal('51197.0000000000'))\n",
      "(Decimal('68.0000000000'), Decimal('207600.0000000000'))\n",
      "(Decimal('70.9000000000'), Decimal('22696.0000000000'))\n",
      "(Decimal('76.9000000000'), Decimal('53.0000000000'))\n",
      "(Decimal('63.7000000000'), Decimal('1098581.0000000000'))\n",
      "(Decimal('62.9000000000'), Decimal('8547403.0000000000'))\n",
      "(Decimal('73.0000000000'), Decimal('430.0000000000'))\n",
      "(Decimal('73.6000000000'), Decimal('5765.0000000000'))\n",
      "(Decimal('52.4000000000'), Decimal('47000.0000000000'))\n",
      "(None, Decimal('59.0000000000'))\n",
      "(Decimal('39.3000000000'), Decimal('581730.0000000000'))\n",
      "(Decimal('44.0000000000'), Decimal('622984.0000000000'))\n",
      "(Decimal('79.4000000000'), Decimal('9970610.0000000000'))\n",
      "(None, Decimal('14.0000000000'))\n",
      "(Decimal('79.6000000000'), Decimal('41284.0000000000'))\n",
      "(Decimal('75.7000000000'), Decimal('756626.0000000000'))\n",
      "(Decimal('71.4000000000'), Decimal('9572900.0000000000'))\n",
      "(Decimal('45.2000000000'), Decimal('322463.0000000000'))\n",
      "(Decimal('54.8000000000'), Decimal('475442.0000000000'))\n",
      "(Decimal('48.8000000000'), Decimal('2344858.0000000000'))\n",
      "(Decimal('47.4000000000'), Decimal('342000.0000000000'))\n",
      "(Decimal('71.1000000000'), Decimal('236.0000000000'))\n",
      "(Decimal('70.3000000000'), Decimal('1138914.0000000000'))\n",
      "(Decimal('60.0000000000'), Decimal('1862.0000000000'))\n",
      "(Decimal('68.9000000000'), Decimal('4033.0000000000'))\n",
      "(Decimal('75.8000000000'), Decimal('51100.0000000000'))\n",
      "(Decimal('76.2000000000'), Decimal('110861.0000000000'))\n",
      "(None, Decimal('135.0000000000'))\n",
      "(Decimal('78.9000000000'), Decimal('264.0000000000'))\n",
      "(Decimal('76.7000000000'), Decimal('9251.0000000000'))\n",
      "(Decimal('74.5000000000'), Decimal('78866.0000000000'))\n",
      "(Decimal('77.4000000000'), Decimal('357022.0000000000'))\n",
      "(Decimal('50.8000000000'), Decimal('23200.0000000000'))\n",
      "(Decimal('73.4000000000'), Decimal('751.0000000000'))\n",
      "(Decimal('76.5000000000'), Decimal('43094.0000000000'))\n",
      "(Decimal('73.2000000000'), Decimal('48511.0000000000'))\n",
      "(Decimal('69.7000000000'), Decimal('2381741.0000000000'))\n",
      "(Decimal('71.1000000000'), Decimal('283561.0000000000'))\n",
      "(Decimal('63.3000000000'), Decimal('1001449.0000000000'))\n",
      "(Decimal('55.8000000000'), Decimal('117600.0000000000'))\n",
      "(Decimal('49.8000000000'), Decimal('266000.0000000000'))\n",
      "(Decimal('78.8000000000'), Decimal('505992.0000000000'))\n",
      "(Decimal('69.5000000000'), Decimal('45227.0000000000'))\n",
      "(Decimal('45.2000000000'), Decimal('1104300.0000000000'))\n",
      "(Decimal('77.4000000000'), Decimal('338145.0000000000'))\n",
      "(Decimal('67.9000000000'), Decimal('18274.0000000000'))\n",
      "(None, Decimal('12173.0000000000'))\n",
      "(Decimal('78.8000000000'), Decimal('551500.0000000000'))\n",
      "(Decimal('78.4000000000'), Decimal('1399.0000000000'))\n",
      "(Decimal('68.6000000000'), Decimal('702.0000000000'))\n",
      "(Decimal('50.1000000000'), Decimal('267668.0000000000'))\n",
      "(Decimal('77.7000000000'), Decimal('242900.0000000000'))\n",
      "(Decimal('64.5000000000'), Decimal('69700.0000000000'))\n",
      "(Decimal('57.4000000000'), Decimal('238533.0000000000'))\n",
      "(Decimal('79.0000000000'), Decimal('6.0000000000'))\n",
      "(Decimal('45.6000000000'), Decimal('245857.0000000000'))\n",
      "(Decimal('77.0000000000'), Decimal('1705.0000000000'))\n",
      "(Decimal('53.2000000000'), Decimal('11295.0000000000'))\n",
      "(Decimal('49.0000000000'), Decimal('36125.0000000000'))\n",
      "(Decimal('53.6000000000'), Decimal('28051.0000000000'))\n",
      "(Decimal('78.4000000000'), Decimal('131626.0000000000'))\n",
      "(Decimal('64.5000000000'), Decimal('344.0000000000'))\n",
      "(Decimal('68.1000000000'), Decimal('2166090.0000000000'))\n",
      "(Decimal('66.2000000000'), Decimal('108889.0000000000'))\n",
      "(Decimal('76.1000000000'), Decimal('90000.0000000000'))\n",
      "(Decimal('77.8000000000'), Decimal('549.0000000000'))\n",
      "(Decimal('64.0000000000'), Decimal('214969.0000000000'))\n",
      "(Decimal('79.5000000000'), Decimal('1075.0000000000'))\n",
      "(None, Decimal('359.0000000000'))\n",
      "(Decimal('69.9000000000'), Decimal('112088.0000000000'))\n",
      "(Decimal('73.7000000000'), Decimal('56538.0000000000'))\n",
      "(Decimal('49.2000000000'), Decimal('27750.0000000000'))\n",
      "(Decimal('71.4000000000'), Decimal('93030.0000000000'))\n",
      "(Decimal('68.0000000000'), Decimal('1904569.0000000000'))\n",
      "(Decimal('62.5000000000'), Decimal('3287263.0000000000'))\n",
      "(None, Decimal('78.0000000000'))\n",
      "(Decimal('76.8000000000'), Decimal('70273.0000000000'))\n",
      "(Decimal('69.7000000000'), Decimal('1648195.0000000000'))\n",
      "(Decimal('66.5000000000'), Decimal('438317.0000000000'))\n",
      "(Decimal('79.4000000000'), Decimal('103000.0000000000'))\n",
      "(Decimal('78.6000000000'), Decimal('21056.0000000000'))\n",
      "(Decimal('79.0000000000'), Decimal('301316.0000000000'))\n",
      "(Decimal('75.2000000000'), Decimal('10990.0000000000'))\n",
      "(Decimal('77.4000000000'), Decimal('88946.0000000000'))\n",
      "(Decimal('80.7000000000'), Decimal('377829.0000000000'))\n",
      "(Decimal('63.2000000000'), Decimal('2724900.0000000000'))\n",
      "(Decimal('48.0000000000'), Decimal('580367.0000000000'))\n",
      "(Decimal('63.4000000000'), Decimal('199900.0000000000'))\n",
      "(Decimal('56.5000000000'), Decimal('181035.0000000000'))\n",
      "(Decimal('59.8000000000'), Decimal('726.0000000000'))\n",
      "(Decimal('70.7000000000'), Decimal('261.0000000000'))\n",
      "(Decimal('74.4000000000'), Decimal('99434.0000000000'))\n",
      "(Decimal('76.1000000000'), Decimal('17818.0000000000'))\n",
      "(Decimal('53.1000000000'), Decimal('236800.0000000000'))\n",
      "(Decimal('71.3000000000'), Decimal('10400.0000000000'))\n",
      "(Decimal('51.0000000000'), Decimal('111369.0000000000'))\n",
      "(Decimal('75.5000000000'), Decimal('1759540.0000000000'))\n",
      "(Decimal('72.3000000000'), Decimal('622.0000000000'))\n",
      "(Decimal('78.8000000000'), Decimal('160.0000000000'))\n",
      "(Decimal('71.8000000000'), Decimal('65610.0000000000'))\n",
      "(Decimal('50.8000000000'), Decimal('30355.0000000000'))\n",
      "(Decimal('69.1000000000'), Decimal('65301.0000000000'))\n",
      "(Decimal('77.1000000000'), Decimal('2586.0000000000'))\n",
      "(Decimal('68.4000000000'), Decimal('64589.0000000000'))\n",
      "(Decimal('81.6000000000'), Decimal('18.0000000000'))\n",
      "(Decimal('69.1000000000'), Decimal('446550.0000000000'))\n",
      "(Decimal('78.8000000000'), Decimal('1.5000000000'))\n",
      "(Decimal('64.5000000000'), Decimal('33851.0000000000'))\n",
      "(Decimal('55.0000000000'), Decimal('587041.0000000000'))\n",
      "(Decimal('62.2000000000'), Decimal('298.0000000000'))\n",
      "(Decimal('71.5000000000'), Decimal('1958201.0000000000'))\n",
      "(Decimal('65.5000000000'), Decimal('181.0000000000'))\n",
      "(Decimal('73.8000000000'), Decimal('25713.0000000000'))\n",
      "(Decimal('46.7000000000'), Decimal('1240192.0000000000'))\n",
      "(Decimal('77.9000000000'), Decimal('316.0000000000'))\n",
      "(Decimal('54.9000000000'), Decimal('676578.0000000000'))\n",
      "(Decimal('67.3000000000'), Decimal('1566500.0000000000'))\n",
      "(Decimal('75.5000000000'), Decimal('464.0000000000'))\n",
      "(Decimal('37.5000000000'), Decimal('801590.0000000000'))\n",
      "(Decimal('50.8000000000'), Decimal('1025520.0000000000'))\n",
      "(Decimal('78.0000000000'), Decimal('102.0000000000'))\n",
      "(Decimal('78.3000000000'), Decimal('1102.0000000000'))\n",
      "(Decimal('71.0000000000'), Decimal('2040.0000000000'))\n",
      "(Decimal('37.6000000000'), Decimal('118484.0000000000'))\n",
      "(Decimal('70.8000000000'), Decimal('329758.0000000000'))\n",
      "(Decimal('59.5000000000'), Decimal('373.0000000000'))\n",
      "(Decimal('42.5000000000'), Decimal('824292.0000000000'))\n",
      "(Decimal('72.8000000000'), Decimal('18575.0000000000'))\n",
      "(Decimal('41.3000000000'), Decimal('1267000.0000000000'))\n",
      "(None, Decimal('36.0000000000'))\n",
      "(Decimal('51.6000000000'), Decimal('923768.0000000000'))\n",
      "(Decimal('68.7000000000'), Decimal('130000.0000000000'))\n",
      "(None, Decimal('260.0000000000'))\n",
      "(Decimal('78.3000000000'), Decimal('41526.0000000000'))\n",
      "(Decimal('78.7000000000'), Decimal('323877.0000000000'))\n",
      "(Decimal('57.8000000000'), Decimal('147181.0000000000'))\n",
      "(Decimal('60.8000000000'), Decimal('21.0000000000'))\n",
      "(Decimal('77.8000000000'), Decimal('270534.0000000000'))\n",
      "(Decimal('71.8000000000'), Decimal('309500.0000000000'))\n",
      "(Decimal('61.1000000000'), Decimal('796095.0000000000'))\n",
      "(Decimal('75.5000000000'), Decimal('75517.0000000000'))\n",
      "(None, Decimal('49.0000000000'))\n",
      "(Decimal('70.0000000000'), Decimal('1285216.0000000000'))\n",
      "(Decimal('67.5000000000'), Decimal('300000.0000000000'))\n",
      "(Decimal('68.6000000000'), Decimal('459.0000000000'))\n",
      "(Decimal('63.1000000000'), Decimal('462840.0000000000'))\n",
      "(Decimal('73.2000000000'), Decimal('323250.0000000000'))\n",
      "(Decimal('75.6000000000'), Decimal('8875.0000000000'))\n",
      "(Decimal('70.7000000000'), Decimal('120538.0000000000'))\n",
      "(Decimal('75.8000000000'), Decimal('91982.0000000000'))\n",
      "(Decimal('73.7000000000'), Decimal('406752.0000000000'))\n",
      "(Decimal('71.4000000000'), Decimal('6257.0000000000'))\n",
      "(Decimal('74.8000000000'), Decimal('4000.0000000000'))\n",
      "(Decimal('72.4000000000'), Decimal('11000.0000000000'))\n",
      "(Decimal('72.7000000000'), Decimal('2510.0000000000'))\n",
      "(Decimal('69.9000000000'), Decimal('238391.0000000000'))\n",
      "(Decimal('67.2000000000'), Decimal('17075400.0000000000'))\n",
      "(Decimal('39.3000000000'), Decimal('26338.0000000000'))\n",
      "(Decimal('67.8000000000'), Decimal('2149690.0000000000'))\n",
      "(Decimal('56.6000000000'), Decimal('2505813.0000000000'))\n",
      "(Decimal('62.2000000000'), Decimal('196722.0000000000'))\n",
      "(Decimal('80.1000000000'), Decimal('618.0000000000'))\n",
      "(None, Decimal('3903.0000000000'))\n",
      "(Decimal('76.8000000000'), Decimal('314.0000000000'))\n",
      "(None, Decimal('62422.0000000000'))\n",
      "(Decimal('71.3000000000'), Decimal('28896.0000000000'))\n",
      "(Decimal('45.3000000000'), Decimal('71740.0000000000'))\n",
      "(Decimal('69.7000000000'), Decimal('21041.0000000000'))\n",
      "(Decimal('81.1000000000'), Decimal('61.0000000000'))\n",
      "(Decimal('46.2000000000'), Decimal('637657.0000000000'))\n",
      "(Decimal('77.6000000000'), Decimal('242.0000000000'))\n",
      "(Decimal('65.3000000000'), Decimal('964.0000000000'))\n",
      "(Decimal('71.4000000000'), Decimal('163265.0000000000'))\n",
      "(Decimal('73.7000000000'), Decimal('49012.0000000000'))\n",
      "(Decimal('74.9000000000'), Decimal('20256.0000000000'))\n",
      "(Decimal('79.6000000000'), Decimal('449964.0000000000'))\n",
      "(Decimal('40.4000000000'), Decimal('17364.0000000000'))\n",
      "(Decimal('70.4000000000'), Decimal('455.0000000000'))\n",
      "(Decimal('68.5000000000'), Decimal('185180.0000000000'))\n",
      "(Decimal('73.3000000000'), Decimal('430.0000000000'))\n",
      "(Decimal('50.5000000000'), Decimal('1284000.0000000000'))\n",
      "(Decimal('54.7000000000'), Decimal('56785.0000000000'))\n",
      "(Decimal('68.6000000000'), Decimal('513115.0000000000'))\n",
      "(Decimal('64.1000000000'), Decimal('143100.0000000000'))\n",
      "(None, Decimal('12.0000000000'))\n",
      "(Decimal('60.9000000000'), Decimal('488100.0000000000'))\n",
      "(Decimal('46.0000000000'), Decimal('14874.0000000000'))\n",
      "(Decimal('67.9000000000'), Decimal('650.0000000000'))\n",
      "(Decimal('68.0000000000'), Decimal('5130.0000000000'))\n",
      "(Decimal('73.7000000000'), Decimal('163610.0000000000'))\n",
      "(Decimal('71.0000000000'), Decimal('774815.0000000000'))\n",
      "(Decimal('66.3000000000'), Decimal('26.0000000000'))\n",
      "(Decimal('76.4000000000'), Decimal('36188.0000000000'))\n",
      "(Decimal('52.3000000000'), Decimal('883749.0000000000'))\n",
      "(Decimal('42.9000000000'), Decimal('241038.0000000000'))\n",
      "(Decimal('66.0000000000'), Decimal('603700.0000000000'))\n",
      "(None, Decimal('16.0000000000'))\n",
      "(Decimal('75.2000000000'), Decimal('175016.0000000000'))\n",
      "(Decimal('77.1000000000'), Decimal('9363520.0000000000'))\n",
      "(Decimal('63.7000000000'), Decimal('447400.0000000000'))\n",
      "(None, Decimal('0.4000000000'))\n",
      "(Decimal('72.3000000000'), Decimal('388.0000000000'))\n",
      "(Decimal('73.1000000000'), Decimal('912050.0000000000'))\n",
      "(Decimal('75.4000000000'), Decimal('151.0000000000'))\n",
      "(Decimal('78.1000000000'), Decimal('347.0000000000'))\n",
      "(Decimal('69.3000000000'), Decimal('331689.0000000000'))\n",
      "(Decimal('60.6000000000'), Decimal('12189.0000000000'))\n",
      "(None, Decimal('200.0000000000'))\n",
      "(Decimal('69.2000000000'), Decimal('2831.0000000000'))\n",
      "(Decimal('59.8000000000'), Decimal('527968.0000000000'))\n",
      "(Decimal('72.4000000000'), Decimal('102173.0000000000'))\n",
      "(Decimal('51.1000000000'), Decimal('1221037.0000000000'))\n",
      "(Decimal('37.2000000000'), Decimal('752618.0000000000'))\n",
      "(Decimal('37.8000000000'), Decimal('390757.0000000000'))\n",
      "(None, Decimal('0E-10'))\n",
      "(None, Decimal('0E-10'))\n",
      "<class 'sqlalchemy.sql.selectable.Select'>\n"
     ]
    }
   ],
   "source": [
    "# Auto-create the city object based on the metadata read into the DBInfo.\n",
    "country=Table('country', DBInfo, autoload=True)\n",
    "\n",
    "# Mirroring this command: SELECT Id, Name, Population FROM city LIMIT 10;\n",
    "query=select([country.c.LifeExpectancy, country.c.SurfaceArea])\n",
    "result = conn.execute(query)\n",
    "for row in result:\n",
    "    print(row)\n",
    "    \n",
    "print (type(query))"
   ]
  },
  {
   "cell_type": "code",
   "execution_count": 12,
   "id": "7f4d05df-cf27-485a-8250-7b260bad6358",
   "metadata": {},
   "outputs": [
    {
     "data": {
      "text/html": [
       "<div>\n",
       "<style scoped>\n",
       "    .dataframe tbody tr th:only-of-type {\n",
       "        vertical-align: middle;\n",
       "    }\n",
       "\n",
       "    .dataframe tbody tr th {\n",
       "        vertical-align: top;\n",
       "    }\n",
       "\n",
       "    .dataframe thead th {\n",
       "        text-align: right;\n",
       "    }\n",
       "</style>\n",
       "<table border=\"1\" class=\"dataframe\">\n",
       "  <thead>\n",
       "    <tr style=\"text-align: right;\">\n",
       "      <th></th>\n",
       "      <th>LifeExpectancy</th>\n",
       "      <th>SurfaceArea</th>\n",
       "    </tr>\n",
       "  </thead>\n",
       "  <tbody>\n",
       "    <tr>\n",
       "      <th>0</th>\n",
       "      <td>78.4</td>\n",
       "      <td>193.0</td>\n",
       "    </tr>\n",
       "    <tr>\n",
       "      <th>1</th>\n",
       "      <td>45.9</td>\n",
       "      <td>652090.0</td>\n",
       "    </tr>\n",
       "    <tr>\n",
       "      <th>2</th>\n",
       "      <td>38.3</td>\n",
       "      <td>1246700.0</td>\n",
       "    </tr>\n",
       "    <tr>\n",
       "      <th>3</th>\n",
       "      <td>76.1</td>\n",
       "      <td>96.0</td>\n",
       "    </tr>\n",
       "    <tr>\n",
       "      <th>4</th>\n",
       "      <td>71.6</td>\n",
       "      <td>28748.0</td>\n",
       "    </tr>\n",
       "  </tbody>\n",
       "</table>\n",
       "</div>"
      ],
      "text/plain": [
       "   LifeExpectancy  SurfaceArea\n",
       "0            78.4        193.0\n",
       "1            45.9     652090.0\n",
       "2            38.3    1246700.0\n",
       "3            76.1         96.0\n",
       "4            71.6      28748.0"
      ]
     },
     "execution_count": 12,
     "metadata": {},
     "output_type": "execute_result"
    }
   ],
   "source": [
    "import pandas as pd\n",
    "\n",
    "df = pd.read_sql(query, conn)\n",
    "\n",
    "df.head()"
   ]
  },
  {
   "cell_type": "code",
   "execution_count": 26,
   "id": "3998954e-0021-4eff-b99a-1391a207eef2",
   "metadata": {},
   "outputs": [
    {
     "data": {
      "text/plain": [
       "Text(0.5, 1.0, 'Surface Area and Life Expectancy of Countries Around the World')"
      ]
     },
     "execution_count": 26,
     "metadata": {},
     "output_type": "execute_result"
    },
    {
     "data": {
      "image/png": "[encoded data removed]",
      "text/plain": [
       "<Figure size 432x288 with 1 Axes>"
      ]
     },
     "metadata": {
      "needs_background": "light"
     },
     "output_type": "display_data"
    }
   ],
   "source": [
    "df.plot.scatter(x='SurfaceArea', y='LifeExpectancy', color='orange')\n",
    "import matplotlib.pyplot as plt\n",
    "plt.title('Surface Area and Life Expectancy of Countries Around the World')"
   ]
  },
  {
   "cell_type": "markdown",
   "id": "dc3140d6-2a4f-497f-b66d-d6428a08ee7e",
   "metadata": {},
   "source": [
    "**Grad student extra credit:** Plot LifeExpectancy vs the ratio of the total population of all the cities in the country divided by the total population of the country. This is an approximation of the % urban population in the country."
   ]
  },
  {
   "cell_type": "code",
   "execution_count": null,
   "id": "f00ee72c-29ac-4207-9a25-afb5370ba6e5",
   "metadata": {},
   "outputs": [],
   "source": []
  }
 ],
 "metadata": {
  "kernelspec": {
   "display_name": "UFRC Python-3.10",
   "language": "python",
   "name": "python3-3.10-ufrc"
  },
  "language_info": {
   "codemirror_mode": {
    "name": "ipython",
    "version": 3
   },
   "file_extension": ".py",
   "mimetype": "text/x-python",
   "name": "python",
   "nbconvert_exporter": "python",
   "pygments_lexer": "ipython3",
   "version": "3.10.5"
  }
 },
 "nbformat": 4,
 "nbformat_minor": 5
}
